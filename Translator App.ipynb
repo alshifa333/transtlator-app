{
 "cells": [
  {
   "cell_type": "markdown",
   "id": "567ef938",
   "metadata": {},
   "source": [
    "# BHARAT INTERN"
   ]
  },
  {
   "cell_type": "markdown",
   "id": "c8331011",
   "metadata": {},
   "source": [
    "# ARTIFICIAL INTELLIGENCE INTERN\n"
   ]
  },
  {
   "cell_type": "markdown",
   "id": "62f98cb4",
   "metadata": {},
   "source": [
    "# TASK 1:Translator App"
   ]
  },
  {
   "cell_type": "code",
   "execution_count": 1,
   "id": "cc650b65",
   "metadata": {},
   "outputs": [
    {
     "name": "stdout",
     "output_type": "stream",
     "text": [
      "Requirement already satisfied: googletrans in c:\\users\\hp\\anaconda3\\lib\\site-packages (3.0.0)\n",
      "Requirement already satisfied: httpx==0.13.3 in c:\\users\\hp\\anaconda3\\lib\\site-packages (from googletrans) (0.13.3)\n",
      "Requirement already satisfied: rfc3986<2,>=1.3 in c:\\users\\hp\\anaconda3\\lib\\site-packages (from httpx==0.13.3->googletrans) (1.5.0)\n",
      "Requirement already satisfied: chardet==3.* in c:\\users\\hp\\anaconda3\\lib\\site-packages (from httpx==0.13.3->googletrans) (3.0.4)\n",
      "Requirement already satisfied: idna==2.* in c:\\users\\hp\\anaconda3\\lib\\site-packages (from httpx==0.13.3->googletrans) (2.10)\n",
      "Requirement already satisfied: hstspreload in c:\\users\\hp\\anaconda3\\lib\\site-packages (from httpx==0.13.3->googletrans) (2023.1.1)\n",
      "Requirement already satisfied: certifi in c:\\users\\hp\\anaconda3\\lib\\site-packages (from httpx==0.13.3->googletrans) (2022.12.7)\n",
      "Requirement already satisfied: httpcore==0.9.* in c:\\users\\hp\\anaconda3\\lib\\site-packages (from httpx==0.13.3->googletrans) (0.9.1)\n",
      "Requirement already satisfied: sniffio in c:\\users\\hp\\anaconda3\\lib\\site-packages (from httpx==0.13.3->googletrans) (1.2.0)\n",
      "Requirement already satisfied: h2==3.* in c:\\users\\hp\\anaconda3\\lib\\site-packages (from httpcore==0.9.*->httpx==0.13.3->googletrans) (3.2.0)\n",
      "Requirement already satisfied: h11<0.10,>=0.8 in c:\\users\\hp\\anaconda3\\lib\\site-packages (from httpcore==0.9.*->httpx==0.13.3->googletrans) (0.9.0)\n",
      "Requirement already satisfied: hpack<4,>=3.0 in c:\\users\\hp\\anaconda3\\lib\\site-packages (from h2==3.*->httpcore==0.9.*->httpx==0.13.3->googletrans) (3.0.0)\n",
      "Requirement already satisfied: hyperframe<6,>=5.2.0 in c:\\users\\hp\\anaconda3\\lib\\site-packages (from h2==3.*->httpcore==0.9.*->httpx==0.13.3->googletrans) (5.2.0)\n"
     ]
    }
   ],
   "source": [
    "!pip install googletrans"
   ]
  },
  {
   "cell_type": "code",
   "execution_count": 2,
   "id": "d4da13c1",
   "metadata": {},
   "outputs": [],
   "source": [
    "from googletrans import Translator,LANGUAGES\n"
   ]
  },
  {
   "cell_type": "code",
   "execution_count": 3,
   "id": "bfe1005f",
   "metadata": {},
   "outputs": [],
   "source": [
    "from tkinter import ttk"
   ]
  },
  {
   "cell_type": "code",
   "execution_count": 4,
   "id": "ae51dd09",
   "metadata": {},
   "outputs": [],
   "source": [
    "from tkinter import *"
   ]
  },
  {
   "cell_type": "markdown",
   "id": "bf173974",
   "metadata": {},
   "source": [
    "# CREATING GUI"
   ]
  },
  {
   "cell_type": "code",
   "execution_count": 5,
   "id": "7bd8ce3b",
   "metadata": {},
   "outputs": [
    {
     "data": {
      "text/plain": [
       "''"
      ]
     },
     "execution_count": 5,
     "metadata": {},
     "output_type": "execute_result"
    }
   ],
   "source": [
    "root = Tk()\n",
    "root.geometry('1160x520')\n",
    "root.resizable(0,0)\n"
   ]
  },
  {
   "cell_type": "code",
   "execution_count": 6,
   "id": "01f72edf",
   "metadata": {},
   "outputs": [],
   "source": [
    "root['bg']='pink'\n",
    "\n",
    "root.title(\"TASK AT BHARAT INTERN\")\n",
    "Label(root,text=\"TRANSLATOR APP\",font='Calibri 25 bold').pack()"
   ]
  },
  {
   "cell_type": "markdown",
   "id": "2e393d34",
   "metadata": {},
   "source": [
    "# CREATING TEXTBOX FOR INPUT AND OUTPUT"
   ]
  },
  {
   "cell_type": "code",
   "execution_count": 7,
   "id": "2105e90f",
   "metadata": {},
   "outputs": [],
   "source": [
    "Label(root,text=\"ENTER TEXT \",bg='white',font='Calibri 18 bold').place(x=165,y=90)"
   ]
  },
  {
   "cell_type": "code",
   "execution_count": 8,
   "id": "879284f4",
   "metadata": {},
   "outputs": [
    {
     "data": {
      "text/plain": [
       "''"
      ]
     },
     "execution_count": 8,
     "metadata": {},
     "output_type": "execute_result"
    }
   ],
   "source": [
    "inputText=Entry(root,width=80)\n",
    "inputText.place(x=40,y=130)\n",
    "inputText.get()"
   ]
  },
  {
   "cell_type": "code",
   "execution_count": 9,
   "id": "e6a860cc",
   "metadata": {},
   "outputs": [],
   "source": [
    "Label(root,text=\"OUTPUT \",bg='white',font='Calibri 18 bold').place(x=780,y=90)\n",
    "Output_Text=Text(root,font='Calibri 18 bold',padx=5,pady=5,height=3,wrap=WORD,width=40)\n",
    "Output_Text.place(x=600,y=130)\n"
   ]
  },
  {
   "cell_type": "code",
   "execution_count": 10,
   "id": "cf66d6ca",
   "metadata": {},
   "outputs": [],
   "source": [
    "language=list(LANGUAGES.values())\n",
    "dest_lang=ttk.Combobox(root,values=language,width=44)\n",
    "dest_lang.place(x=130,y=180)\n",
    "dest_lang.set('Choose Language')"
   ]
  },
  {
   "cell_type": "markdown",
   "id": "5c2f36ba",
   "metadata": {},
   "source": [
    "# CREATING A FUNCTION NAMED 'trans' FOR FETCHING THE DATA"
   ]
  },
  {
   "cell_type": "code",
   "execution_count": 11,
   "id": "df606192",
   "metadata": {},
   "outputs": [],
   "source": [
    "def trans():\n",
    "    translator=Translator()\n",
    "    translated=translator.translate(text=inputText.get(),dest=dest_lang.get())\n",
    "    Output_Text.delete(1.0,END)\n",
    "    Output_Text.insert(END,translated.text)"
   ]
  },
  {
   "cell_type": "code",
   "execution_count": 12,
   "id": "21de5124",
   "metadata": {},
   "outputs": [],
   "source": [
    "button=Button(root,text='Translate',font='Calibri 18 bold',pady=5,command=trans,bg='violet',activebackground='red')\n",
    "button.place(x=445,y=280)"
   ]
  },
  {
   "cell_type": "code",
   "execution_count": null,
   "id": "e66e653d",
   "metadata": {},
   "outputs": [],
   "source": [
    "root.mainloop()"
   ]
  }
 ],
 "metadata": {
  "kernelspec": {
   "display_name": "Python 3 (ipykernel)",
   "language": "python",
   "name": "python3"
  },
  "language_info": {
   "codemirror_mode": {
    "name": "ipython",
    "version": 3
   },
   "file_extension": ".py",
   "mimetype": "text/x-python",
   "name": "python",
   "nbconvert_exporter": "python",
   "pygments_lexer": "ipython3",
   "version": "3.10.9"
  }
 },
 "nbformat": 4,
 "nbformat_minor": 5
}
